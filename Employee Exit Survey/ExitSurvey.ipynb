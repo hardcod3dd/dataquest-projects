{
 "cells": [
  {
   "cell_type": "markdown",
   "metadata": {
    "collapsed": true
   },
   "source": [
    "# Clean and Analyze Employee Exit Surveys\n",
    "\n",
    "In this guided project, we'll work with exit surveys from employees of the Department of Education, Training and Employment (DETE) and the Technical and Further Education (TAFE) institute in Queensland, Australia. You can find the DETE exit survey data here. The original TAFE exit survey data is no longer available. We've made some slight modifications to the original datasets to make them easier to work with, including changing the encoding to UTF-8 (the original ones are encoded using cp1252.)\n"
   ]
  },
  {
   "cell_type": "code",
   "execution_count": 1,
   "metadata": {},
   "outputs": [
    {
     "name": "stdout",
     "output_type": "stream",
     "text": [
      "<class 'pandas.core.frame.DataFrame'>\n",
      "RangeIndex: 822 entries, 0 to 821\n",
      "Data columns (total 56 columns):\n",
      " #   Column                               Non-Null Count  Dtype \n",
      "---  ------                               --------------  ----- \n",
      " 0   ID                                   822 non-null    int64 \n",
      " 1   SeparationType                       822 non-null    object\n",
      " 2   Cease Date                           822 non-null    object\n",
      " 3   DETE Start Date                      822 non-null    object\n",
      " 4   Role Start Date                      822 non-null    object\n",
      " 5   Position                             817 non-null    object\n",
      " 6   Classification                       455 non-null    object\n",
      " 7   Region                               822 non-null    object\n",
      " 8   Business Unit                        126 non-null    object\n",
      " 9   Employment Status                    817 non-null    object\n",
      " 10  Career move to public sector         822 non-null    bool  \n",
      " 11  Career move to private sector        822 non-null    bool  \n",
      " 12  Interpersonal conflicts              822 non-null    bool  \n",
      " 13  Job dissatisfaction                  822 non-null    bool  \n",
      " 14  Dissatisfaction with the department  822 non-null    bool  \n",
      " 15  Physical work environment            822 non-null    bool  \n",
      " 16  Lack of recognition                  822 non-null    bool  \n",
      " 17  Lack of job security                 822 non-null    bool  \n",
      " 18  Work location                        822 non-null    bool  \n",
      " 19  Employment conditions                822 non-null    bool  \n",
      " 20  Maternity/family                     822 non-null    bool  \n",
      " 21  Relocation                           822 non-null    bool  \n",
      " 22  Study/Travel                         822 non-null    bool  \n",
      " 23  Ill Health                           822 non-null    bool  \n",
      " 24  Traumatic incident                   822 non-null    bool  \n",
      " 25  Work life balance                    822 non-null    bool  \n",
      " 26  Workload                             822 non-null    bool  \n",
      " 27  None of the above                    822 non-null    bool  \n",
      " 28  Professional Development             808 non-null    object\n",
      " 29  Opportunities for promotion          735 non-null    object\n",
      " 30  Staff morale                         816 non-null    object\n",
      " 31  Workplace issue                      788 non-null    object\n",
      " 32  Physical environment                 817 non-null    object\n",
      " 33  Worklife balance                     815 non-null    object\n",
      " 34  Stress and pressure support          810 non-null    object\n",
      " 35  Performance of supervisor            813 non-null    object\n",
      " 36  Peer support                         812 non-null    object\n",
      " 37  Initiative                           813 non-null    object\n",
      " 38  Skills                               811 non-null    object\n",
      " 39  Coach                                767 non-null    object\n",
      " 40  Career Aspirations                   746 non-null    object\n",
      " 41  Feedback                             792 non-null    object\n",
      " 42  Further PD                           768 non-null    object\n",
      " 43  Communication                        814 non-null    object\n",
      " 44  My say                               812 non-null    object\n",
      " 45  Information                          816 non-null    object\n",
      " 46  Kept informed                        813 non-null    object\n",
      " 47  Wellness programs                    766 non-null    object\n",
      " 48  Health & Safety                      793 non-null    object\n",
      " 49  Gender                               798 non-null    object\n",
      " 50  Age                                  811 non-null    object\n",
      " 51  Aboriginal                           16 non-null     object\n",
      " 52  Torres Strait                        3 non-null      object\n",
      " 53  South Sea                            7 non-null      object\n",
      " 54  Disability                           23 non-null     object\n",
      " 55  NESB                                 32 non-null     object\n",
      "dtypes: bool(18), int64(1), object(37)\n",
      "memory usage: 258.6+ KB\n",
      "None\n",
      "<class 'pandas.core.frame.DataFrame'>\n",
      "RangeIndex: 702 entries, 0 to 701\n",
      "Data columns (total 72 columns):\n",
      " #   Column                                                                                                                                                         Non-Null Count  Dtype  \n",
      "---  ------                                                                                                                                                         --------------  -----  \n",
      " 0   Record ID                                                                                                                                                      702 non-null    float64\n",
      " 1   Institute                                                                                                                                                      702 non-null    object \n",
      " 2   WorkArea                                                                                                                                                       702 non-null    object \n",
      " 3   CESSATION YEAR                                                                                                                                                 695 non-null    float64\n",
      " 4   Reason for ceasing employment                                                                                                                                  701 non-null    object \n",
      " 5   Contributing Factors. Career Move - Public Sector                                                                                                              437 non-null    object \n",
      " 6   Contributing Factors. Career Move - Private Sector                                                                                                             437 non-null    object \n",
      " 7   Contributing Factors. Career Move - Self-employment                                                                                                            437 non-null    object \n",
      " 8   Contributing Factors. Ill Health                                                                                                                               437 non-null    object \n",
      " 9   Contributing Factors. Maternity/Family                                                                                                                         437 non-null    object \n",
      " 10  Contributing Factors. Dissatisfaction                                                                                                                          437 non-null    object \n",
      " 11  Contributing Factors. Job Dissatisfaction                                                                                                                      437 non-null    object \n",
      " 12  Contributing Factors. Interpersonal Conflict                                                                                                                   437 non-null    object \n",
      " 13  Contributing Factors. Study                                                                                                                                    437 non-null    object \n",
      " 14  Contributing Factors. Travel                                                                                                                                   437 non-null    object \n",
      " 15  Contributing Factors. Other                                                                                                                                    437 non-null    object \n",
      " 16  Contributing Factors. NONE                                                                                                                                     437 non-null    object \n",
      " 17  Main Factor. Which of these was the main factor for leaving?                                                                                                   113 non-null    object \n",
      " 18  InstituteViews. Topic:1. I feel the senior leadership had a clear vision and direction                                                                         608 non-null    object \n",
      " 19  InstituteViews. Topic:2. I was given access to skills training to help me do my job better                                                                     613 non-null    object \n",
      " 20  InstituteViews. Topic:3. I was given adequate opportunities for personal development                                                                           610 non-null    object \n",
      " 21  InstituteViews. Topic:4. I was given adequate opportunities for promotion within %Institute]Q25LBL%                                                            608 non-null    object \n",
      " 22  InstituteViews. Topic:5. I felt the salary for the job was right for the responsibilities I had                                                                615 non-null    object \n",
      " 23  InstituteViews. Topic:6. The organisation recognised when staff did good work                                                                                  607 non-null    object \n",
      " 24  InstituteViews. Topic:7. Management was generally supportive of me                                                                                             614 non-null    object \n",
      " 25  InstituteViews. Topic:8. Management was generally supportive of my team                                                                                        608 non-null    object \n",
      " 26  InstituteViews. Topic:9. I was kept informed of the changes in the organisation which would affect me                                                          610 non-null    object \n",
      " 27  InstituteViews. Topic:10. Staff morale was positive within the Institute                                                                                       602 non-null    object \n",
      " 28  InstituteViews. Topic:11. If I had a workplace issue it was dealt with quickly                                                                                 601 non-null    object \n",
      " 29  InstituteViews. Topic:12. If I had a workplace issue it was dealt with efficiently                                                                             597 non-null    object \n",
      " 30  InstituteViews. Topic:13. If I had a workplace issue it was dealt with discreetly                                                                              601 non-null    object \n",
      " 31  WorkUnitViews. Topic:14. I was satisfied with the quality of the management and supervision within my work unit                                                609 non-null    object \n",
      " 32  WorkUnitViews. Topic:15. I worked well with my colleagues                                                                                                      605 non-null    object \n",
      " 33  WorkUnitViews. Topic:16. My job was challenging and interesting                                                                                                607 non-null    object \n",
      " 34  WorkUnitViews. Topic:17. I was encouraged to use my initiative in the course of my work                                                                        610 non-null    object \n",
      " 35  WorkUnitViews. Topic:18. I had sufficient contact with other people in my job                                                                                  613 non-null    object \n",
      " 36  WorkUnitViews. Topic:19. I was given adequate support and co-operation by my peers to enable me to do my job                                                   609 non-null    object \n",
      " 37  WorkUnitViews. Topic:20. I was able to use the full range of my skills in my job                                                                               609 non-null    object \n",
      " 38  WorkUnitViews. Topic:21. I was able to use the full range of my abilities in my job. ; Category:Level of Agreement; Question:YOUR VIEWS ABOUT YOUR WORK UNIT]  608 non-null    object \n",
      " 39  WorkUnitViews. Topic:22. I was able to use the full range of my knowledge in my job                                                                            608 non-null    object \n",
      " 40  WorkUnitViews. Topic:23. My job provided sufficient variety                                                                                                    611 non-null    object \n",
      " 41  WorkUnitViews. Topic:24. I was able to cope with the level of stress and pressure in my job                                                                    610 non-null    object \n",
      " 42  WorkUnitViews. Topic:25. My job allowed me to balance the demands of work and family to my satisfaction                                                        611 non-null    object \n",
      " 43  WorkUnitViews. Topic:26. My supervisor gave me adequate personal recognition and feedback on my performance                                                    606 non-null    object \n",
      " 44  WorkUnitViews. Topic:27. My working environment was satisfactory e.g. sufficient space, good lighting, suitable seating and working area                       610 non-null    object \n",
      " 45  WorkUnitViews. Topic:28. I was given the opportunity to mentor and coach others in order for me to pass on my skills and knowledge prior to my cessation date  609 non-null    object \n",
      " 46  WorkUnitViews. Topic:29. There was adequate communication between staff in my unit                                                                             603 non-null    object \n",
      " 47  WorkUnitViews. Topic:30. Staff morale was positive within my work unit                                                                                         606 non-null    object \n",
      " 48  Induction. Did you undertake Workplace Induction?                                                                                                              619 non-null    object \n",
      " 49  InductionInfo. Topic:Did you undertake a Corporate Induction?                                                                                                  432 non-null    object \n",
      " 50  InductionInfo. Topic:Did you undertake a Institute Induction?                                                                                                  483 non-null    object \n",
      " 51  InductionInfo. Topic: Did you undertake Team Induction?                                                                                                        440 non-null    object \n",
      " 52  InductionInfo. Face to Face Topic:Did you undertake a Corporate Induction; Category:How it was conducted?                                                      555 non-null    object \n",
      " 53  InductionInfo. On-line Topic:Did you undertake a Corporate Induction; Category:How it was conducted?                                                           555 non-null    object \n",
      " 54  InductionInfo. Induction Manual Topic:Did you undertake a Corporate Induction?                                                                                 555 non-null    object \n",
      " 55  InductionInfo. Face to Face Topic:Did you undertake a Institute Induction?                                                                                     530 non-null    object \n",
      " 56  InductionInfo. On-line Topic:Did you undertake a Institute Induction?                                                                                          555 non-null    object \n",
      " 57  InductionInfo. Induction Manual Topic:Did you undertake a Institute Induction?                                                                                 553 non-null    object \n",
      " 58  InductionInfo. Face to Face Topic: Did you undertake Team Induction; Category?                                                                                 555 non-null    object \n",
      " 59  InductionInfo. On-line Topic: Did you undertake Team Induction?process you undertook and how it was conducted.]                                                555 non-null    object \n",
      " 60  InductionInfo. Induction Manual Topic: Did you undertake Team Induction?                                                                                       555 non-null    object \n",
      " 61  Workplace. Topic:Did you and your Manager develop a Performance and Professional Development Plan (PPDP)?                                                      608 non-null    object \n",
      " 62  Workplace. Topic:Does your workplace promote a work culture free from all forms of unlawful discrimination?                                                    594 non-null    object \n",
      " 63  Workplace. Topic:Does your workplace promote and practice the principles of employment equity?                                                                 587 non-null    object \n",
      " 64  Workplace. Topic:Does your workplace value the diversity of its employees?                                                                                     586 non-null    object \n",
      " 65  Workplace. Topic:Would you recommend the Institute as an employer to others?                                                                                   581 non-null    object \n",
      " 66  Gender. What is your Gender?                                                                                                                                   596 non-null    object \n",
      " 67  CurrentAge. Current Age                                                                                                                                        596 non-null    object \n",
      " 68  Employment Type. Employment Type                                                                                                                               596 non-null    object \n",
      " 69  Classification. Classification                                                                                                                                 596 non-null    object \n",
      " 70  LengthofServiceOverall. Overall Length of Service at Institute (in years)                                                                                      596 non-null    object \n",
      " 71  LengthofServiceCurrent. Length of Service at current workplace (in years)                                                                                      596 non-null    object \n",
      "dtypes: float64(2), object(70)\n",
      "memory usage: 395.0+ KB\n",
      "None\n"
     ]
    }
   ],
   "source": [
    "#Read data\n",
    "import pandas as pd\n",
    "import numpy as np\n",
    "\n",
    "dete_survey = pd.read_csv('dete_survey.csv')\n",
    "tafe_survey = pd.read_csv('tafe_survey.csv')\n",
    "\n",
    "dete_survey.head()\n",
    "tafe_survey.head()\n",
    "\n",
    "print(dete_survey.info())\n",
    "print(tafe_survey.info())"
   ]
  },
  {
   "cell_type": "code",
   "execution_count": 2,
   "metadata": {
    "scrolled": true
   },
   "outputs": [
    {
     "name": "stdout",
     "output_type": "stream",
     "text": [
      "Record ID                                                                      0\n",
      "Institute                                                                      0\n",
      "WorkArea                                                                       0\n",
      "CESSATION YEAR                                                                 7\n",
      "Reason for ceasing employment                                                  1\n",
      "                                                                            ... \n",
      "CurrentAge. Current Age                                                      106\n",
      "Employment Type. Employment Type                                             106\n",
      "Classification. Classification                                               106\n",
      "LengthofServiceOverall. Overall Length of Service at Institute (in years)    106\n",
      "LengthofServiceCurrent. Length of Service at current workplace (in years)    106\n",
      "Length: 72, dtype: int64\n",
      "ID                                       0\n",
      "SeparationType                           0\n",
      "Cease Date                               0\n",
      "DETE Start Date                          0\n",
      "Role Start Date                          0\n",
      "Position                                 5\n",
      "Classification                         367\n",
      "Region                                   0\n",
      "Business Unit                          696\n",
      "Employment Status                        5\n",
      "Career move to public sector             0\n",
      "Career move to private sector            0\n",
      "Interpersonal conflicts                  0\n",
      "Job dissatisfaction                      0\n",
      "Dissatisfaction with the department      0\n",
      "Physical work environment                0\n",
      "Lack of recognition                      0\n",
      "Lack of job security                     0\n",
      "Work location                            0\n",
      "Employment conditions                    0\n",
      "Maternity/family                         0\n",
      "Relocation                               0\n",
      "Study/Travel                             0\n",
      "Ill Health                               0\n",
      "Traumatic incident                       0\n",
      "Work life balance                        0\n",
      "Workload                                 0\n",
      "None of the above                        0\n",
      "Professional Development                14\n",
      "Opportunities for promotion             87\n",
      "Staff morale                             6\n",
      "Workplace issue                         34\n",
      "Physical environment                     5\n",
      "Worklife balance                         7\n",
      "Stress and pressure support             12\n",
      "Performance of supervisor                9\n",
      "Peer support                            10\n",
      "Initiative                               9\n",
      "Skills                                  11\n",
      "Coach                                   55\n",
      "Career Aspirations                      76\n",
      "Feedback                                30\n",
      "Further PD                              54\n",
      "Communication                            8\n",
      "My say                                  10\n",
      "Information                              6\n",
      "Kept informed                            9\n",
      "Wellness programs                       56\n",
      "Health & Safety                         29\n",
      "Gender                                  24\n",
      "Age                                     11\n",
      "Aboriginal                             806\n",
      "Torres Strait                          819\n",
      "South Sea                              815\n",
      "Disability                             799\n",
      "NESB                                   790\n",
      "dtype: int64\n"
     ]
    }
   ],
   "source": [
    "#explore null values\n",
    "print(tafe_survey.isnull().sum())\n",
    "print(dete_survey.isnull().sum())"
   ]
  },
  {
   "cell_type": "code",
   "execution_count": 3,
   "metadata": {},
   "outputs": [
    {
     "name": "stdout",
     "output_type": "stream",
     "text": [
      "Index(['ID', 'SeparationType', 'Cease Date', 'DETE Start Date',\n",
      "       'Role Start Date', 'Position', 'Classification', 'Region',\n",
      "       'Business Unit', 'Employment Status', 'Career move to public sector',\n",
      "       'Career move to private sector', 'Interpersonal conflicts',\n",
      "       'Job dissatisfaction', 'Dissatisfaction with the department',\n",
      "       'Physical work environment', 'Lack of recognition',\n",
      "       'Lack of job security', 'Work location', 'Employment conditions',\n",
      "       'Maternity/family', 'Relocation', 'Study/Travel', 'Ill Health',\n",
      "       'Traumatic incident', 'Work life balance', 'Workload',\n",
      "       'None of the above', 'Gender', 'Age', 'Aboriginal', 'Torres Strait',\n",
      "       'South Sea', 'Disability', 'NESB'],\n",
      "      dtype='object')\n",
      "Index(['Record ID', 'Institute', 'WorkArea', 'CESSATION YEAR',\n",
      "       'Reason for ceasing employment',\n",
      "       'Contributing Factors. Career Move - Public Sector ',\n",
      "       'Contributing Factors. Career Move - Private Sector ',\n",
      "       'Contributing Factors. Career Move - Self-employment',\n",
      "       'Contributing Factors. Ill Health',\n",
      "       'Contributing Factors. Maternity/Family',\n",
      "       'Contributing Factors. Dissatisfaction',\n",
      "       'Contributing Factors. Job Dissatisfaction',\n",
      "       'Contributing Factors. Interpersonal Conflict',\n",
      "       'Contributing Factors. Study', 'Contributing Factors. Travel',\n",
      "       'Contributing Factors. Other', 'Contributing Factors. NONE',\n",
      "       'Gender. What is your Gender?', 'CurrentAge. Current Age',\n",
      "       'Employment Type. Employment Type', 'Classification. Classification',\n",
      "       'LengthofServiceOverall. Overall Length of Service at Institute (in years)',\n",
      "       'LengthofServiceCurrent. Length of Service at current workplace (in years)'],\n",
      "      dtype='object')\n"
     ]
    }
   ],
   "source": [
    "#read and replace nan value\n",
    "dete_survey = pd.read_csv('dete_survey.csv', na_values='Not Stated')\n",
    "\n",
    "# remove unwanted columns\n",
    "dete_survey_updated = dete_survey.drop(dete_survey.columns[28:49], axis=1)\n",
    "tafe_survey_updated = tafe_survey.drop(tafe_survey.columns[17:66], axis=1)\n",
    "\n",
    "print(dete_survey_updated.columns)\n",
    "print(tafe_survey_updated.columns)"
   ]
  },
  {
   "cell_type": "code",
   "execution_count": 4,
   "metadata": {},
   "outputs": [
    {
     "data": {
      "text/plain": [
       "Index(['id', 'separationtype', 'cease_date', 'dete_start_date',\n",
       "       'role_start_date', 'position', 'classification', 'region',\n",
       "       'business_unit', 'employment_status', 'career_move_to_public_sector',\n",
       "       'career_move_to_private_sector', 'interpersonal_conflicts',\n",
       "       'job_dissatisfaction', 'dissatisfaction_with_the_department',\n",
       "       'physical_work_environment', 'lack_of_recognition',\n",
       "       'lack_of_job_security', 'work_location', 'employment_conditions',\n",
       "       'maternity/family', 'relocation', 'study/travel', 'ill_health',\n",
       "       'traumatic_incident', 'work_life_balance', 'workload',\n",
       "       'none_of_the_above', 'gender', 'age', 'aboriginal', 'torres_strait',\n",
       "       'south_sea', 'disability', 'nesb'],\n",
       "      dtype='object')"
      ]
     },
     "execution_count": 4,
     "metadata": {},
     "output_type": "execute_result"
    }
   ],
   "source": [
    "#rename columns\n",
    "dete_survey_updated.columns = dete_survey_updated.columns.str.lower().str.strip().str.replace(' ', '_')\n",
    "dete_survey_updated.columns"
   ]
  },
  {
   "cell_type": "code",
   "execution_count": 5,
   "metadata": {},
   "outputs": [
    {
     "data": {
      "text/plain": [
       "Index(['id', 'Institute', 'WorkArea', 'cease_date', 'separationtype',\n",
       "       'Contributing Factors. Career Move - Public Sector ',\n",
       "       'Contributing Factors. Career Move - Private Sector ',\n",
       "       'Contributing Factors. Career Move - Self-employment',\n",
       "       'Contributing Factors. Ill Health',\n",
       "       'Contributing Factors. Maternity/Family',\n",
       "       'Contributing Factors. Dissatisfaction',\n",
       "       'Contributing Factors. Job Dissatisfaction',\n",
       "       'Contributing Factors. Interpersonal Conflict',\n",
       "       'Contributing Factors. Study', 'Contributing Factors. Travel',\n",
       "       'Contributing Factors. Other', 'Contributing Factors. NONE', 'gender',\n",
       "       'age', 'employment_status', 'position', 'institute_service',\n",
       "       'role_service'],\n",
       "      dtype='object')"
      ]
     },
     "execution_count": 5,
     "metadata": {},
     "output_type": "execute_result"
    }
   ],
   "source": [
    "#rename map tafe\n",
    "\n",
    "mapping = {'Record ID': 'id', 'CESSATION YEAR': 'cease_date', 'Reason for ceasing employment': 'separationtype', 'Gender. What is your Gender?': 'gender', 'CurrentAge. Current Age': 'age',\n",
    "       'Employment Type. Employment Type': 'employment_status',\n",
    "       'Classification. Classification': 'position',\n",
    "       'LengthofServiceOverall. Overall Length of Service at Institute (in years)': 'institute_service',\n",
    "       'LengthofServiceCurrent. Length of Service at current workplace (in years)': 'role_service'}\n",
    "tafe_survey_updated = tafe_survey_updated.rename(mapping, axis = 1)\n",
    "\n",
    "tafe_survey_updated.columns"
   ]
  },
  {
   "cell_type": "code",
   "execution_count": 6,
   "metadata": {},
   "outputs": [
    {
     "name": "stdout",
     "output_type": "stream",
     "text": [
      "             id                              Institute  \\\n",
      "0  6.341330e+17  Southern Queensland Institute of TAFE   \n",
      "1  6.341337e+17            Mount Isa Institute of TAFE   \n",
      "2  6.341388e+17            Mount Isa Institute of TAFE   \n",
      "3  6.341399e+17            Mount Isa Institute of TAFE   \n",
      "4  6.341466e+17  Southern Queensland Institute of TAFE   \n",
      "\n",
      "                   WorkArea  cease_date    separationtype  \\\n",
      "0  Non-Delivery (corporate)      2010.0  Contract Expired   \n",
      "1  Non-Delivery (corporate)      2010.0        Retirement   \n",
      "2       Delivery (teaching)      2010.0        Retirement   \n",
      "3  Non-Delivery (corporate)      2010.0       Resignation   \n",
      "4       Delivery (teaching)      2010.0       Resignation   \n",
      "\n",
      "  Contributing Factors. Career Move - Public Sector   \\\n",
      "0                                                NaN   \n",
      "1                                                  -   \n",
      "2                                                  -   \n",
      "3                                                  -   \n",
      "4                                                  -   \n",
      "\n",
      "  Contributing Factors. Career Move - Private Sector   \\\n",
      "0                                                NaN    \n",
      "1                                                  -    \n",
      "2                                                  -    \n",
      "3                                                  -    \n",
      "4                       Career Move - Private Sector    \n",
      "\n",
      "  Contributing Factors. Career Move - Self-employment  \\\n",
      "0                                                NaN    \n",
      "1                                                  -    \n",
      "2                                                  -    \n",
      "3                                                  -    \n",
      "4                                                  -    \n",
      "\n",
      "  Contributing Factors. Ill Health Contributing Factors. Maternity/Family  \\\n",
      "0                              NaN                                    NaN   \n",
      "1                                -                                      -   \n",
      "2                                -                                      -   \n",
      "3                                -                                      -   \n",
      "4                                -                                      -   \n",
      "\n",
      "   ... Contributing Factors. Study Contributing Factors. Travel  \\\n",
      "0  ...                         NaN                          NaN   \n",
      "1  ...                           -                       Travel   \n",
      "2  ...                           -                            -   \n",
      "3  ...                           -                       Travel   \n",
      "4  ...                           -                            -   \n",
      "\n",
      "  Contributing Factors. Other Contributing Factors. NONE  gender     age  \\\n",
      "0                         NaN                        NaN  Female  26  30   \n",
      "1                           -                          -     NaN     NaN   \n",
      "2                           -                       NONE     NaN     NaN   \n",
      "3                           -                          -     NaN     NaN   \n",
      "4                           -                          -    Male  41  45   \n",
      "\n",
      "     employment_status                 position institute_service role_service  \n",
      "0  Temporary Full-time      Administration (AO)               1-2          1-2  \n",
      "1                  NaN                      NaN               NaN          NaN  \n",
      "2                  NaN                      NaN               NaN          NaN  \n",
      "3                  NaN                      NaN               NaN          NaN  \n",
      "4  Permanent Full-time  Teacher (including LVT)               3-4          3-4  \n",
      "\n",
      "[5 rows x 23 columns]\n",
      "   id                    separationtype cease_date  dete_start_date  \\\n",
      "0   1             Ill Health Retirement    08/2012           1984.0   \n",
      "1   2  Voluntary Early Retirement (VER)    08/2012              NaN   \n",
      "2   3  Voluntary Early Retirement (VER)    05/2012           2011.0   \n",
      "3   4         Resignation-Other reasons    05/2012           2005.0   \n",
      "4   5                    Age Retirement    05/2012           1970.0   \n",
      "\n",
      "   role_start_date                                      position  \\\n",
      "0           2004.0                                Public Servant   \n",
      "1              NaN                                Public Servant   \n",
      "2           2011.0                               Schools Officer   \n",
      "3           2006.0                                       Teacher   \n",
      "4           1989.0  Head of Curriculum/Head of Special Education   \n",
      "\n",
      "  classification              region                      business_unit  \\\n",
      "0        A01-A04      Central Office  Corporate Strategy and Peformance   \n",
      "1        AO5-AO7      Central Office  Corporate Strategy and Peformance   \n",
      "2            NaN      Central Office               Education Queensland   \n",
      "3        Primary  Central Queensland                                NaN   \n",
      "4            NaN          South East                                NaN   \n",
      "\n",
      "     employment_status  ...  work_life_balance  workload  none_of_the_above  \\\n",
      "0  Permanent Full-time  ...              False     False               True   \n",
      "1  Permanent Full-time  ...              False     False              False   \n",
      "2  Permanent Full-time  ...              False     False               True   \n",
      "3  Permanent Full-time  ...              False     False              False   \n",
      "4  Permanent Full-time  ...               True     False              False   \n",
      "\n",
      "   gender          age  aboriginal  torres_strait  south_sea  disability  nesb  \n",
      "0    Male        56-60         NaN            NaN        NaN         NaN   Yes  \n",
      "1    Male        56-60         NaN            NaN        NaN         NaN   NaN  \n",
      "2    Male  61 or older         NaN            NaN        NaN         NaN   NaN  \n",
      "3  Female        36-40         NaN            NaN        NaN         NaN   NaN  \n",
      "4  Female  61 or older         NaN            NaN        NaN         NaN   NaN  \n",
      "\n",
      "[5 rows x 35 columns]\n"
     ]
    }
   ],
   "source": [
    "#check the data\n",
    "print(tafe_survey_updated.head())\n",
    "print(dete_survey_updated.head())"
   ]
  },
  {
   "cell_type": "code",
   "execution_count": 7,
   "metadata": {},
   "outputs": [
    {
     "name": "stdout",
     "output_type": "stream",
     "text": [
      "Age Retirement                          285\n",
      "Resignation-Other reasons               150\n",
      "Resignation-Other employer               91\n",
      "Resignation-Move overseas/interstate     70\n",
      "Voluntary Early Retirement (VER)         67\n",
      "Ill Health Retirement                    61\n",
      "Other                                    49\n",
      "Contract Expired                         34\n",
      "Termination                              15\n",
      "Name: separationtype, dtype: int64\n",
      "Resignation                 340\n",
      "Contract Expired            127\n",
      "Retrenchment/ Redundancy    104\n",
      "Retirement                   82\n",
      "Transfer                     25\n",
      "Termination                  23\n",
      "Name: separationtype, dtype: int64\n"
     ]
    }
   ],
   "source": [
    "#check unique for seperation\n",
    "print(dete_survey_updated['separationtype'].value_counts())\n",
    "print(tafe_survey_updated['separationtype'].value_counts())"
   ]
  },
  {
   "cell_type": "code",
   "execution_count": 8,
   "metadata": {},
   "outputs": [
    {
     "name": "stdout",
     "output_type": "stream",
     "text": [
      "Resignation                         311\n",
      "Age Retirement                      285\n",
      "Voluntary Early Retirement (VER)     67\n",
      "Ill Health Retirement                61\n",
      "Other                                49\n",
      "Contract Expired                     34\n",
      "Termination                          15\n",
      "Name: separationtype, dtype: int64\n"
     ]
    }
   ],
   "source": [
    "#  \"resignation\" to 'Resignation'\n",
    "dete_survey_updated['separationtype'] = dete_survey_updated['separationtype'].str.split('-').str[0]\n",
    "\n",
    "# check values\n",
    "print(dete_survey_updated['separationtype'].value_counts())\n",
    "\n",
    "# select only the resignation separation types\n",
    "dete_resignations = dete_survey_updated[dete_survey_updated['separationtype'] == 'Resignation'].copy()\n",
    "tafe_resignations = tafe_survey_updated[tafe_survey_updated['separationtype'] == 'Resignation'].copy()"
   ]
  },
  {
   "cell_type": "code",
   "execution_count": 9,
   "metadata": {},
   "outputs": [
    {
     "data": {
      "text/plain": [
       "2012       126\n",
       "2013        74\n",
       "01/2014     22\n",
       "12/2013     17\n",
       "06/2013     14\n",
       "09/2013     11\n",
       "07/2013      9\n",
       "11/2013      9\n",
       "10/2013      6\n",
       "08/2013      4\n",
       "05/2012      2\n",
       "05/2013      2\n",
       "2010         1\n",
       "09/2010      1\n",
       "07/2006      1\n",
       "07/2012      1\n",
       "Name: cease_date, dtype: int64"
      ]
     },
     "execution_count": 9,
     "metadata": {},
     "output_type": "execute_result"
    }
   ],
   "source": [
    "# check unique\n",
    "dete_resignations['cease_date'].value_counts()"
   ]
  },
  {
   "cell_type": "code",
   "execution_count": 10,
   "metadata": {
    "scrolled": true
   },
   "outputs": [
    {
     "data": {
      "text/plain": [
       "1963.0     1\n",
       "1971.0     1\n",
       "1972.0     1\n",
       "1984.0     1\n",
       "1977.0     1\n",
       "1987.0     1\n",
       "1975.0     1\n",
       "1973.0     1\n",
       "1982.0     1\n",
       "1974.0     2\n",
       "1983.0     2\n",
       "1976.0     2\n",
       "1986.0     3\n",
       "1985.0     3\n",
       "2001.0     3\n",
       "1995.0     4\n",
       "1988.0     4\n",
       "1989.0     4\n",
       "1991.0     4\n",
       "1997.0     5\n",
       "1980.0     5\n",
       "1993.0     5\n",
       "1990.0     5\n",
       "1994.0     6\n",
       "2003.0     6\n",
       "1998.0     6\n",
       "1992.0     6\n",
       "2002.0     6\n",
       "1996.0     6\n",
       "1999.0     8\n",
       "2000.0     9\n",
       "2013.0    10\n",
       "2009.0    13\n",
       "2006.0    13\n",
       "2004.0    14\n",
       "2005.0    15\n",
       "2010.0    17\n",
       "2012.0    21\n",
       "2007.0    21\n",
       "2008.0    22\n",
       "2011.0    24\n",
       "Name: dete_start_date, dtype: int64"
      ]
     },
     "execution_count": 10,
     "metadata": {},
     "output_type": "execute_result"
    }
   ],
   "source": [
    "# extract convert years\n",
    "dete_resignations['cease_date'] = dete_resignations['cease_date'].str.split('/').str[-1]\n",
    "dete_resignations['cease_date'] = dete_resignations['cease_date'].astype(\"float\")"
   ]
  },
  {
   "cell_type": "code",
   "execution_count": 13,
   "metadata": {},
   "outputs": [
    {
     "name": "stdout",
     "output_type": "stream",
     "text": [
      "2013.0    146\n",
      "2012.0    129\n",
      "2014.0     22\n",
      "2010.0      2\n",
      "2006.0      1\n",
      "Name: cease_date, dtype: int64\n"
     ]
    },
    {
     "data": {
      "text/plain": [
       "2011.0    24\n",
       "2008.0    22\n",
       "2007.0    21\n",
       "2012.0    21\n",
       "2010.0    17\n",
       "2005.0    15\n",
       "2004.0    14\n",
       "2006.0    13\n",
       "2009.0    13\n",
       "2013.0    10\n",
       "2000.0     9\n",
       "1999.0     8\n",
       "1996.0     6\n",
       "2002.0     6\n",
       "1992.0     6\n",
       "1998.0     6\n",
       "2003.0     6\n",
       "1994.0     6\n",
       "1990.0     5\n",
       "1993.0     5\n",
       "1980.0     5\n",
       "1997.0     5\n",
       "1991.0     4\n",
       "1989.0     4\n",
       "1988.0     4\n",
       "1995.0     4\n",
       "2001.0     3\n",
       "1985.0     3\n",
       "1986.0     3\n",
       "1976.0     2\n",
       "1983.0     2\n",
       "1974.0     2\n",
       "1982.0     1\n",
       "1973.0     1\n",
       "1975.0     1\n",
       "1987.0     1\n",
       "1977.0     1\n",
       "1984.0     1\n",
       "1972.0     1\n",
       "1971.0     1\n",
       "1963.0     1\n",
       "Name: dete_start_date, dtype: int64"
      ]
     },
     "execution_count": 13,
     "metadata": {},
     "output_type": "execute_result"
    }
   ],
   "source": [
    "print(dete_resignations['cease_date'].value_counts())\n",
    "\n",
    "dete_resignations['dete_start_date'].value_counts().sort_values(ascending=False)"
   ]
  },
  {
   "cell_type": "code",
   "execution_count": 15,
   "metadata": {},
   "outputs": [
    {
     "data": {
      "text/plain": [
       "2011.0    116\n",
       "2012.0     94\n",
       "2010.0     68\n",
       "2013.0     55\n",
       "2009.0      2\n",
       "Name: cease_date, dtype: int64"
      ]
     },
     "execution_count": 15,
     "metadata": {},
     "output_type": "execute_result"
    }
   ],
   "source": [
    "tafe_resignations['cease_date'].value_counts().sort_values(ascending=False)"
   ]
  },
  {
   "cell_type": "code",
   "execution_count": 16,
   "metadata": {},
   "outputs": [
    {
     "name": "stdout",
     "output_type": "stream",
     "text": [
      "3      7.0\n",
      "5     18.0\n",
      "8      3.0\n",
      "9     15.0\n",
      "11     3.0\n",
      "Name: institute_service, dtype: float64\n"
     ]
    }
   ],
   "source": [
    "# create new column\n",
    "dete_resignations['institute_service'] = dete_resignations['cease_date'] - dete_resignations['dete_start_date']\n",
    "\n",
    "# chcek result\n",
    "print(dete_resignations['institute_service'].head())"
   ]
  },
  {
   "cell_type": "code",
   "execution_count": 18,
   "metadata": {},
   "outputs": [
    {
     "name": "stdout",
     "output_type": "stream",
     "text": [
      "-                                         277\n",
      "Contributing Factors. Dissatisfaction      55\n",
      "Name: Contributing Factors. Dissatisfaction, dtype: int64\n",
      "-                      270\n",
      "Job Dissatisfaction     62\n",
      "Name: Contributing Factors. Job Dissatisfaction, dtype: int64\n"
     ]
    }
   ],
   "source": [
    "# check satisfaction values\n",
    "# check satisfaction values\n",
    "\n",
    "print(tafe_resignations['Contributing Factors. Dissatisfaction'].value_counts(ascending=False))\n",
    "print(tafe_resignations['Contributing Factors. Job Dissatisfaction'].value_counts(ascending=False))"
   ]
  },
  {
   "cell_type": "code",
   "execution_count": 19,
   "metadata": {},
   "outputs": [
    {
     "data": {
      "text/plain": [
       "False    241\n",
       "True      91\n",
       "NaN        8\n",
       "Name: dissatisfied, dtype: int64"
      ]
     },
     "execution_count": 19,
     "metadata": {},
     "output_type": "execute_result"
    }
   ],
   "source": [
    "# update true faldse nan\n",
    "def update_values(x):\n",
    "    if x == '-':\n",
    "        return False\n",
    "    elif pd.isnull(x):\n",
    "        return np.nan\n",
    "    else:\n",
    "        return True\n",
    "tafe_resignations['dissatisfied'] = tafe_resignations[['Contributing Factors. Dissatisfaction', 'Contributing Factors. Job Dissatisfaction']].applymap(update_values).any(1, skipna=False)\n",
    "tafe_resignations_up = tafe_resignations.copy()\n",
    "\n",
    "tafe_resignations_up['dissatisfied'].value_counts(dropna=False)"
   ]
  },
  {
   "cell_type": "code",
   "execution_count": 20,
   "metadata": {},
   "outputs": [
    {
     "data": {
      "text/plain": [
       "False    162\n",
       "True     149\n",
       "Name: dissatisfied, dtype: int64"
      ]
     },
     "execution_count": 20,
     "metadata": {},
     "output_type": "execute_result"
    }
   ],
   "source": [
    "#update for dete\n",
    "dete_resignations['dissatisfied'] = dete_resignations[['job_dissatisfaction',\n",
    "       'dissatisfaction_with_the_department', 'physical_work_environment',\n",
    "       'lack_of_recognition', 'lack_of_job_security', 'work_location',\n",
    "       'employment_conditions', 'work_life_balance',\n",
    "       'workload']].any(1, skipna=False)\n",
    "dete_resignations_up = dete_resignations.copy()\n",
    "dete_resignations_up['dissatisfied'].value_counts(dropna=False)"
   ]
  },
  {
   "cell_type": "code",
   "execution_count": 22,
   "metadata": {},
   "outputs": [
    {
     "data": {
      "text/plain": [
       "id                                                     651\n",
       "institute                                              651\n",
       "separationtype                                         651\n",
       "dissatisfied                                           643\n",
       "cease_date                                             635\n",
       "position                                               598\n",
       "employment_status                                      597\n",
       "age                                                    596\n",
       "gender                                                 592\n",
       "institute_service                                      563\n",
       "WorkArea                                               340\n",
       "Institute                                              340\n",
       "Contributing Factors. Study                            332\n",
       "Contributing Factors. NONE                             332\n",
       "Contributing Factors. Interpersonal Conflict           332\n",
       "Contributing Factors. Other                            332\n",
       "Contributing Factors. Dissatisfaction                  332\n",
       "Contributing Factors. Career Move - Public Sector      332\n",
       "Contributing Factors. Career Move - Private Sector     332\n",
       "Contributing Factors. Career Move - Self-employment    332\n",
       "Contributing Factors. Ill Health                       332\n",
       "Contributing Factors. Maternity/Family                 332\n",
       "Contributing Factors. Travel                           332\n",
       "Contributing Factors. Job Dissatisfaction              332\n",
       "job_dissatisfaction                                    311\n",
       "lack_of_recognition                                    311\n",
       "physical_work_environment                              311\n",
       "dissatisfaction_with_the_department                    311\n",
       "work_location                                          311\n",
       "interpersonal_conflicts                                311\n",
       "career_move_to_private_sector                          311\n",
       "career_move_to_public_sector                           311\n",
       "lack_of_job_security                                   311\n",
       "workload                                               311\n",
       "employment_conditions                                  311\n",
       "maternity/family                                       311\n",
       "relocation                                             311\n",
       "study/travel                                           311\n",
       "ill_health                                             311\n",
       "traumatic_incident                                     311\n",
       "work_life_balance                                      311\n",
       "none_of_the_above                                      311\n",
       "role_service                                           290\n",
       "dete_start_date                                        283\n",
       "role_start_date                                        271\n",
       "region                                                 265\n",
       "classification                                         161\n",
       "business_unit                                           32\n",
       "nesb                                                     9\n",
       "disability                                               8\n",
       "aboriginal                                               7\n",
       "south_sea                                                3\n",
       "torres_strait                                            0\n",
       "dtype: int64"
      ]
     },
     "execution_count": 22,
     "metadata": {},
     "output_type": "execute_result"
    }
   ],
   "source": [
    "# add column\n",
    "dete_resignations_up['institute'] = 'DETE'\n",
    "tafe_resignations_up['institute'] = 'TAFE'\n",
    "# combine\n",
    "combined = pd.concat([dete_resignations_up, tafe_resignations_up], ignore_index=True)\n",
    "\n",
    "# verify\n",
    "combined.notnull().sum().sort_values(ascending=False)"
   ]
  },
  {
   "cell_type": "code",
   "execution_count": 23,
   "metadata": {},
   "outputs": [],
   "source": [
    "#drop less than 500\n",
    "combined_updated = combined.dropna(thresh = 500, axis =1).copy()"
   ]
  },
  {
   "cell_type": "code",
   "execution_count": 24,
   "metadata": {},
   "outputs": [
    {
     "data": {
      "text/plain": [
       "NaN                   88\n",
       "Less than 1 year      73\n",
       "1-2                   64\n",
       "3-4                   63\n",
       "5-6                   33\n",
       "11-20                 26\n",
       "5.0                   23\n",
       "1.0                   22\n",
       "7-10                  21\n",
       "0.0                   20\n",
       "3.0                   20\n",
       "6.0                   17\n",
       "4.0                   16\n",
       "9.0                   14\n",
       "2.0                   14\n",
       "7.0                   13\n",
       "More than 20 years    10\n",
       "8.0                    8\n",
       "13.0                   8\n",
       "15.0                   7\n",
       "20.0                   7\n",
       "10.0                   6\n",
       "12.0                   6\n",
       "14.0                   6\n",
       "17.0                   6\n",
       "22.0                   6\n",
       "18.0                   5\n",
       "16.0                   5\n",
       "11.0                   4\n",
       "23.0                   4\n",
       "24.0                   4\n",
       "19.0                   3\n",
       "32.0                   3\n",
       "39.0                   3\n",
       "21.0                   3\n",
       "28.0                   2\n",
       "30.0                   2\n",
       "26.0                   2\n",
       "36.0                   2\n",
       "25.0                   2\n",
       "29.0                   1\n",
       "31.0                   1\n",
       "27.0                   1\n",
       "34.0                   1\n",
       "35.0                   1\n",
       "38.0                   1\n",
       "41.0                   1\n",
       "42.0                   1\n",
       "49.0                   1\n",
       "33.0                   1\n",
       "Name: institute_service, dtype: int64"
      ]
     },
     "execution_count": 24,
     "metadata": {},
     "output_type": "execute_result"
    }
   ],
   "source": [
    "# check\n",
    "combined_updated['institute_service'].value_counts(dropna=False, ascending=False)"
   ]
  },
  {
   "cell_type": "code",
   "execution_count": 25,
   "metadata": {},
   "outputs": [
    {
     "data": {
      "text/plain": [
       "1.0     159\n",
       "3.0      83\n",
       "5.0      56\n",
       "7.0      34\n",
       "11.0     30\n",
       "0.0      20\n",
       "20.0     17\n",
       "6.0      17\n",
       "4.0      16\n",
       "9.0      14\n",
       "2.0      14\n",
       "13.0      8\n",
       "8.0       8\n",
       "15.0      7\n",
       "17.0      6\n",
       "10.0      6\n",
       "12.0      6\n",
       "14.0      6\n",
       "22.0      6\n",
       "16.0      5\n",
       "18.0      5\n",
       "24.0      4\n",
       "23.0      4\n",
       "39.0      3\n",
       "19.0      3\n",
       "21.0      3\n",
       "32.0      3\n",
       "28.0      2\n",
       "36.0      2\n",
       "25.0      2\n",
       "30.0      2\n",
       "26.0      2\n",
       "29.0      1\n",
       "38.0      1\n",
       "42.0      1\n",
       "27.0      1\n",
       "41.0      1\n",
       "35.0      1\n",
       "49.0      1\n",
       "34.0      1\n",
       "33.0      1\n",
       "31.0      1\n",
       "Name: institute_service_up, dtype: int64"
      ]
     },
     "execution_count": 25,
     "metadata": {},
     "output_type": "execute_result"
    }
   ],
   "source": [
    "# convert the type to float\n",
    "combined_updated['institute_service_up'] = combined_updated['institute_service'].astype('str').str.extract(r'(\\d+)')\n",
    "combined_updated['institute_service_up'] = combined_updated['institute_service_up'].astype('float')\n",
    "\n",
    "# check\n",
    "combined_updated['institute_service_up'].value_counts()"
   ]
  },
  {
   "cell_type": "code",
   "execution_count": 28,
   "metadata": {},
   "outputs": [
    {
     "data": {
      "text/plain": [
       "New            193\n",
       "Experienced    172\n",
       "Veteran        136\n",
       "Established     62\n",
       "Name: service_cat, dtype: int64"
      ]
     },
     "execution_count": 28,
     "metadata": {},
     "output_type": "execute_result"
    }
   ],
   "source": [
    "# function to convert\n",
    "def stages(value):\n",
    "    if value >= 11:\n",
    "        return \"Veteran\"\n",
    "    elif 7 <= value < 11:\n",
    "        return \"Established\"\n",
    "    elif 3 <= value < 7:\n",
    "        return \"Experienced\"\n",
    "    elif pd.isnull(value):\n",
    "        return np.nan\n",
    "    else:\n",
    "        return \"New\"\n",
    "    \n",
    "combined_updated['service_cat'] = combined_updated['institute_service_up'].apply(stages)\n",
    "\n",
    "# check\n",
    "combined_updated['service_cat'].value_counts()"
   ]
  },
  {
   "cell_type": "code",
   "execution_count": 31,
   "metadata": {},
   "outputs": [
    {
     "data": {
      "text/plain": [
       "False    411\n",
       "True     240\n",
       "Name: dissatisfied, dtype: int64"
      ]
     },
     "execution_count": 31,
     "metadata": {},
     "output_type": "execute_result"
    }
   ],
   "source": [
    "#check nan\n",
    "combined_updated['dissatisfied'].value_counts(dropna=False)\n",
    "\n",
    "#replace\n",
    "combined_updated['dissatisfied'] = combined_updated['dissatisfied'].fillna(False)\n",
    "\n",
    "#check nan\n",
    "combined_updated['dissatisfied'].value_counts(dropna=False)"
   ]
  },
  {
   "cell_type": "code",
   "execution_count": 40,
   "metadata": {},
   "outputs": [
    {
     "data": {
      "text/plain": [
       "<matplotlib.axes._subplots.AxesSubplot at 0x7f6fb7430670>"
      ]
     },
     "execution_count": 40,
     "metadata": {},
     "output_type": "execute_result"
    },
    {
     "data": {
      "image/png": "[encoded data removed]",
      "text/plain": [
       "<Figure size 600x400 with 1 Axes>"
      ]
     },
     "metadata": {},
     "output_type": "display_data"
    }
   ],
   "source": [
    "# calculate each category\n",
    "dissatisfaction_percent = combined_updated.pivot_table(index='service_cat', values='dissatisfied')\n",
    "\n",
    "# Plot the results\n",
    "%matplotlib inline\n",
    "dissatisfaction_percent.plot(kind='bar', rot=0)"
   ]
  },
  {
   "cell_type": "code",
   "execution_count": null,
   "metadata": {},
   "outputs": [],
   "source": []
  }
 ],
 "metadata": {
  "kernelspec": {
   "display_name": "Python 3",
   "language": "python",
   "name": "python3"
  },
  "language_info": {
   "codemirror_mode": {
    "name": "ipython",
    "version": 3
   },
   "file_extension": ".py",
   "mimetype": "text/x-python",
   "name": "python",
   "nbconvert_exporter": "python",
   "pygments_lexer": "ipython3",
   "version": "3.8.2"
  }
 },
 "nbformat": 4,
 "nbformat_minor": 2
}
