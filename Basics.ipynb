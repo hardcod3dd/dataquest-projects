{
 "cells": [
  {
   "cell_type": "code",
   "execution_count": 2,
   "metadata": {},
   "outputs": [],
   "source": [
    "# Relation between experience and salary"
   ]
  },
  {
   "cell_type": "code",
   "execution_count": 17,
   "metadata": {},
   "outputs": [],
   "source": [
    "#import file\n",
    "import csv\n",
    "\n",
    "with open('kaggle2021-short.csv') as f:\n",
    "    reader = csv.reader(f, delimiter=\",\")\n",
    "    kaggle_data = list(reader)\n",
    "\n",
    "column_names = kaggle_data[0]\n",
    "survey_responses = kaggle_data[1:]"
   ]
  },
  {
   "cell_type": "code",
   "execution_count": 18,
   "metadata": {},
   "outputs": [],
   "source": [
    "#clean the data\n",
    "\n",
    "#convert experience and salary to float,int\n",
    "for row in survey_responses:\n",
    "    row[0] = float(row[0])\n",
    "    row[-1] = int(row[-1])\n",
    "\n",
    "    #convert None values on most_used\n",
    "    if row[4] == \"None\":\n",
    "        row[4] = None\n",
    "    else:\n",
    "        row[4] = row[4]\n",
    "        \n",
    "    #convert True and False\n",
    "    if row[1] == \"TRUE\":\n",
    "        row[1] = True\n",
    "    else:\n",
    "        row[1] = False\n",
    "        \n",
    "    #convert True and False\n",
    "    if row[2] == \"TRUE\":\n",
    "        row[2] = True\n",
    "    else:\n",
    "        row[2] = False\n",
    "        \n",
    "    #convert True and False    \n",
    "    if row[3] == \"TRUE\":\n",
    "        row[3] = True\n",
    "    else:\n",
    "        row[3] = False\n",
    "            "
   ]
  },
  {
   "cell_type": "code",
   "execution_count": 19,
   "metadata": {},
   "outputs": [
    {
     "name": "stdout",
     "output_type": "stream",
     "text": [
      "Total Python Users : 21860 and the rate is 0.8416432449081739 .\n",
      "Total R Users : 757 and the rate is 0.029145651253224502 .\n",
      "Total SQL Users : 850 and the rate is 0.0327262926885612 .\n"
     ]
    }
   ],
   "source": [
    "#define and count who knows python,r,sql\n",
    "\n",
    "knows_py = 0\n",
    "knows_r = 0\n",
    "knows_sql = 0\n",
    "\n",
    "for row in survey_responses:\n",
    "    if row[1] == True:\n",
    "        knows_py += 1\n",
    "    elif row[2] == True:\n",
    "        knows_r += 1\n",
    "    elif row[3] == True:\n",
    "        knows_sql += 1\n",
    "        \n",
    "#calculate proportion\n",
    "\n",
    "py_rate = knows_py / len(survey_responses)\n",
    "r_rate = knows_r / len(survey_responses)\n",
    "sql_rate = knows_sql / len(survey_responses)\n",
    "\n",
    "#set and print result\n",
    "\n",
    "result = '''Total Python Users : {} and the rate is {} .\n",
    "Total R Users : {} and the rate is {} .\n",
    "Total SQL Users : {} and the rate is {} .'''.format(knows_py, py_rate, knows_r, r_rate, knows_sql, sql_rate)\n",
    "\n",
    "print(result)\n"
   ]
  },
  {
   "cell_type": "code",
   "execution_count": 20,
   "metadata": {},
   "outputs": [
    {
     "name": "stdout",
     "output_type": "stream",
     "text": [
      "Maximum experience : 30.0 Minimum Experience : 0.0 Average Experience:  5.297231740653729.\n",
      "Maximum salary : 1492951 Minimum Salary : 0 Average Salary:  53252.81696377007.\n"
     ]
    }
   ],
   "source": [
    "#define lists\n",
    "\n",
    "experience_coding = []\n",
    "compensation = []\n",
    "\n",
    "#iterate through and add them to the lists\n",
    "\n",
    "for row in survey_responses:\n",
    "    experience_coding.append(row[0])\n",
    "    compensation.append(row[-1])\n",
    "\n",
    "#define min max average    \n",
    "\n",
    "exp_max = max(experience_coding)\n",
    "exp_min = min(experience_coding)\n",
    "exp_avg = sum(experience_coding) / len(experience_coding)\n",
    "\n",
    "comp_max = max(compensation)\n",
    "comp_min = min(compensation)\n",
    "comp_avg = sum(compensation) / len(compensation)\n",
    "\n",
    "#print the results\n",
    "\n",
    "result = '''Maximum experience : {} Minimum Experience : {} Average Experience:  {}.\n",
    "Maximum salary : {} Minimum Salary : {} Average Salary:  {}.'''.format(exp_max, exp_min, exp_avg, comp_max, comp_min, comp_avg)\n",
    "\n",
    "print(result)"
   ]
  },
  {
   "cell_type": "code",
   "execution_count": 26,
   "metadata": {},
   "outputs": [
    {
     "name": "stdout",
     "output_type": "stream",
     "text": [
      "[[12.3, True, True, True, 'Scikit-learn', 236889, '10-15 Years'], [2.2, True, False, False, None, 74321, 'Less than 5 years'], [2.7, False, False, True, None, 62593, 'Less than 5 years'], [1.2, True, False, False, 'Scikit-learn', 36288, 'Less than 5 years'], [1.0, True, False, False, 'PyTorch', 61302, 'Less than 5 years'], [1.8, False, False, False, None, 68984, 'Less than 5 years'], [6.1, True, False, False, 'TensorFlow', 18858, '5-10 Years'], [4.5, True, False, True, 'Scikit-learn', 55418, 'Less than 5 years'], [1.1, True, False, True, 'TensorFlow', 614, 'Less than 5 years'], [2.7, True, True, True, None, 70564, 'Less than 5 years'], [0.93, True, True, False, 'Scikit-learn', 55525, 'Less than 5 years'], [0.32, True, False, False, None, 61005, 'Less than 5 years'], [9.9, True, False, True, 'Scikit-learn', 2846, '5-10 Years'], [0.78, True, False, False, 'TensorFlow', 21, 'Less than 5 years'], [13.5, True, False, False, 'Scikit-learn', 14699, '10-15 Years'], [26.5, True, False, True, 'Scikit-learn', 2110, 'More than 15 years'], [1.5, True, False, True, 'Scikit-learn', 620, 'Less than 5 years'], [3.4, True, False, True, 'PyTorch', 73527, 'Less than 5 years'], [0.6, False, False, False, None, 6992, 'Less than 5 years']]\n"
     ]
    }
   ],
   "source": [
    "#create the column\n",
    "\n",
    "for row in survey_responses:\n",
    "    if len(survey_responses[0]) == 6 :\n",
    "        row.append(\"\")\n",
    "\n",
    "#define categories and add them to the column\n",
    "\n",
    "for row in survey_responses:\n",
    "    if 0 <= row[0] < 5 :\n",
    "        row[-1] = \"Less than 5 years\"\n",
    "    elif 5 <= row[0] < 10 :\n",
    "        row[-1] = \"5-10 Years\"\n",
    "    elif 10 <= row[0] < 15 :\n",
    "        row[-1] = \"10-15 Years\"\n",
    "    else:\n",
    "        row[-1] = \"More than 15 years\"\n",
    "        \n",
    "print(survey_responses[1:20])"
   ]
  },
  {
   "cell_type": "code",
   "execution_count": 43,
   "metadata": {},
   "outputs": [
    {
     "name": "stdout",
     "output_type": "stream",
     "text": [
      "18753 people has less than 5 years of experience and their average salary is 45047.87484669119 .\n",
      "3167 people has 5-10 years of experience and their average salary is 59312.82033470161 .\n",
      "1118 people has 10-15 years of experience and their average salary is 80226.75581395348 .\n",
      "2935 people has more than 15 years of experience and their average salary is 88863.85110732539 .\n"
     ]
    }
   ],
   "source": [
    "# create exp categories lists\n",
    "\n",
    "less_than_five = []\n",
    "five_to_ten = []\n",
    "ten_to_fifteen = []\n",
    "more_than_fifteen = []\n",
    "\n",
    "#populate the lists\n",
    "\n",
    "for row in survey_responses:\n",
    "    if row[-1] == \"Less than 5 years\":\n",
    "        less_than_five.append(int(row[-2]))\n",
    "    elif row[-1] == \"5-10 Years\":\n",
    "        five_to_ten.append(int(row[-2]))\n",
    "    elif row[-1] == \"10-15 Years\":\n",
    "        ten_to_fifteen.append(int(row[-2]))\n",
    "    else:\n",
    "        more_than_fifteen.append(int(row[-2]))\n",
    "        \n",
    "# calculate average salary for each group\n",
    "\n",
    "avg_five = sum(less_than_five) / len(less_than_five)\n",
    "avg_to_ten = sum(five_to_ten) / len(five_to_ten)\n",
    "avg_ten_fifteen = sum(ten_to_fifteen) / len(ten_to_fifteen)\n",
    "avg_more_15 = sum(more_than_fifteen) / len(more_than_fifteen)\n",
    "        \n",
    "        \n",
    "result = '''{} people has less than 5 years of experience and their average salary is {} .\n",
    "{} people has 5-10 years of experience and their average salary is {} .\n",
    "{} people has 10-15 years of experience and their average salary is {} .\n",
    "{} people has more than 15 years of experience and their average salary is {} .'''.format(len(less_than_five), avg_five, len(five_to_ten), avg_to_ten, len(ten_to_fifteen), avg_ten_fifteen, len(more_than_fifteen), avg_more_15)\n",
    "\n",
    "print(result)"
   ]
  },
  {
   "cell_type": "code",
   "execution_count": null,
   "metadata": {},
   "outputs": [],
   "source": []
  }
 ],
 "metadata": {
  "kernelspec": {
   "display_name": "Python 3 (ipykernel)",
   "language": "python",
   "name": "python3"
  },
  "language_info": {
   "codemirror_mode": {
    "name": "ipython",
    "version": 3
   },
   "file_extension": ".py",
   "mimetype": "text/x-python",
   "name": "python",
   "nbconvert_exporter": "python",
   "pygments_lexer": "ipython3",
   "version": "3.10.6"
  }
 },
 "nbformat": 4,
 "nbformat_minor": 4
}
