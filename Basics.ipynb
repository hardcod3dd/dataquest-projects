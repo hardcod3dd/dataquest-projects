{
 "cells": [
  {
   "cell_type": "code",
   "execution_count": 2,
   "metadata": {},
   "outputs": [],
   "source": [
    "# Relation between experience and salary"
   ]
  },
  {
   "cell_type": "code",
   "execution_count": null,
   "metadata": {},
   "outputs": [],
   "source": [
    "#import file\n",
    "import csv\n",
    "\n",
    "with open('kaggle2021-short.csv') as f:\n",
    "    reader = csv.reader(f, delimiter=\",\")\n",
    "    kaggle_data = list(reader)\n",
    "\n",
    "column_names = kaggle_data[0]\n",
    "survey_responses = kaggle_data[1:]"
   ]
  },
  {
   "cell_type": "code",
   "execution_count": null,
   "metadata": {},
   "outputs": [],
   "source": [
    "#clean the data\n",
    "\n",
    "#convert experience and salary to float,int\n",
    "for row in survey_responses:\n",
    "    row[0] = float(row[0])\n",
    "    row[-1] = int(row[-1])\n",
    "\n",
    "    #convert None values on most_used\n",
    "    if row[4] == \"None\":\n",
    "        row[4] = None\n",
    "    else:\n",
    "        row[4] = row[4]\n",
    "        \n",
    "    #convert True and False\n",
    "    if row[1] == \"TRUE\":\n",
    "        row[1] = True\n",
    "    else:\n",
    "        row[1] = False\n",
    "        \n",
    "    #convert True and False\n",
    "    if row[2] == \"TRUE\":\n",
    "        row[2] = True\n",
    "    else:\n",
    "        row[2] = False\n",
    "        \n",
    "    #convert True and False    \n",
    "    if row[3] == \"TRUE\":\n",
    "        row[3] = True\n",
    "    else:\n",
    "        row[3] = False\n",
    "            "
   ]
  },
  {
   "cell_type": "code",
   "execution_count": 43,
   "metadata": {},
   "outputs": [
    {
     "name": "stdout",
     "output_type": "stream",
     "text": [
      "Total Python Users : 21860 and the rate is 0.8416432449081739 .\n",
      "Total R Users : 757 and the rate is 0.029145651253224502 .\n",
      "Total SQL Users : 850 and the rate is 0.0327262926885612 .\n"
     ]
    }
   ],
   "source": [
    "#define and count who knows python,r,sql\n",
    "\n",
    "knows_py = 0\n",
    "knows_r = 0\n",
    "knows_sql = 0\n",
    "\n",
    "for row in survey_responses:\n",
    "    if row[1] == True:\n",
    "        knows_py += 1\n",
    "    elif row[2] == True:\n",
    "        knows_r += 1\n",
    "    elif row[3] == True:\n",
    "        knows_sql += 1\n",
    "        \n",
    "#calculate proportion\n",
    "\n",
    "py_rate = knows_py / len(survey_responses)\n",
    "r_rate = knows_r / len(survey_responses)\n",
    "sql_rate = knows_sql / len(survey_responses)\n",
    "\n",
    "#set and print result\n",
    "\n",
    "result = '''Total Python Users : {} and the rate is {} .\n",
    "Total R Users : {} and the rate is {} .\n",
    "Total SQL Users : {} and the rate is {} .'''.format(knows_py, py_rate, knows_r, r_rate, knows_sql, sql_rate)\n",
    "\n",
    "print(result)\n"
   ]
  },
  {
   "cell_type": "code",
   "execution_count": null,
   "metadata": {},
   "outputs": [],
   "source": []
  },
  {
   "cell_type": "code",
   "execution_count": null,
   "metadata": {},
   "outputs": [],
   "source": []
  }
 ],
 "metadata": {
  "kernelspec": {
   "display_name": "Python 3 (ipykernel)",
   "language": "python",
   "name": "python3"
  },
  "language_info": {
   "codemirror_mode": {
    "name": "ipython",
    "version": 3
   },
   "file_extension": ".py",
   "mimetype": "text/x-python",
   "name": "python",
   "nbconvert_exporter": "python",
   "pygments_lexer": "ipython3",
   "version": "3.10.6"
  }
 },
 "nbformat": 4,
 "nbformat_minor": 4
}
